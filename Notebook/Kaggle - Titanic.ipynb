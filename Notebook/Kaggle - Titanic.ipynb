{
 "cells": [
  {
   "cell_type": "markdown",
   "metadata": {},
   "source": [
    "#Titanic - Kaggle Training"
   ]
  },
  {
   "cell_type": "code",
   "execution_count": 60,
   "metadata": {
    "collapsed": false
   },
   "outputs": [],
   "source": [
    "import numpy as np\n",
    "import pandas as pd\n",
    "import csv as csv\n",
    "\n",
    "import os\n",
    "from time import time\n",
    "import operator\n",
    "\n",
    "from Tools.tools import *\n",
    "\n",
    "from sklearn.tree import *\n",
    "from sklearn.pipeline import Pipeline, make_pipeline, FeatureUnion\n",
    "from sklearn import linear_model as lm\n",
    "from sklearn.ensemble import RandomForestClassifier, GradientBoostingClassifier\n",
    "from sklearn.svm import SVC, LinearSVC\n",
    "import sklearn.svm as svm\n",
    "from sklearn.preprocessing import *\n",
    "from sklearn.grid_search import GridSearchCV, RandomizedSearchCV    \n",
    "\n",
    "import matplotlib.pyplot as plt\n",
    "%matplotlib inline \n",
    "%qtconsole"
   ]
  },
  {
   "cell_type": "code",
   "execution_count": 2,
   "metadata": {
    "collapsed": true
   },
   "outputs": [
    {
     "data": {
      "text/plain": [
       "1"
      ]
     },
     "execution_count": 2,
     "metadata": {},
     "output_type": "execute_result"
    }
   ],
   "source": [
    "# Multiprocessing\n",
    "os.system('taskset -p 0xffffffff %d' % os.getpid())"
   ]
  },
  {
   "cell_type": "markdown",
   "metadata": {},
   "source": [
    "##Preprocessing"
   ]
  },
  {
   "cell_type": "code",
   "execution_count": 78,
   "metadata": {
    "collapsed": false
   },
   "outputs": [
    {
     "name": "stderr",
     "output_type": "stream",
     "text": [
      "C:\\Anaconda3\\lib\\site-packages\\IPython\\kernel\\__main__.py:14: SettingWithCopyWarning: \n",
      "A value is trying to be set on a copy of a slice from a DataFrame.\n",
      "Try using .loc[row_indexer,col_indexer] = value instead\n",
      "\n",
      "See the the caveats in the documentation: http://pandas.pydata.org/pandas-docs/stable/indexing.html#indexing-view-versus-copy\n",
      "C:\\Anaconda3\\lib\\site-packages\\IPython\\kernel\\__main__.py:15: SettingWithCopyWarning: \n",
      "A value is trying to be set on a copy of a slice from a DataFrame.\n",
      "Try using .loc[row_indexer,col_indexer] = value instead\n",
      "\n",
      "See the the caveats in the documentation: http://pandas.pydata.org/pandas-docs/stable/indexing.html#indexing-view-versus-copy\n"
     ]
    }
   ],
   "source": [
    "train = pd.read_csv(\"M:/datasciences/Projets/Kaggle/Titanic/train.csv\")\n",
    "test = pd.read_csv(\"M:/datasciences/Projets/Kaggle/Titanic/test.csv\")\n",
    "\n",
    "## NA imputation\n",
    "feature_columns_to_use = ['Pclass', 'Sex', 'Age', 'Fare', 'Parch', 'Embarked', 'SibSp']\n",
    "big_X = train[feature_columns_to_use].append(test[feature_columns_to_use])\n",
    "big_X_imputed = DataFrameImputer().fit_transform(big_X)\n",
    "\n",
    "# Let's rebuild train & test datasets with imputed values\n",
    "train_X = big_X_imputed[:train.shape[0]]\n",
    "test_X = big_X_imputed[train.shape[0]:]\n",
    "\n",
    "# Male = 1 / Female = 0  using map function\n",
    "train_X['Gender'] = train_X['Sex'].map( {'female': 0, 'male': 1} ).astype(int)\n",
    "test_X['Gender'] = test_X['Sex'].map( {'female': 0, 'male': 1} ).astype(int)\n",
    "train_X = train_X.drop(['Sex'], axis=1)\n",
    "test_X = test_X.drop(['Sex'], axis=1)\n",
    "\n",
    "## Dummies\n",
    "##Embarked split\n",
    "train_X = feature_to_dummy(train_X, 'Embarked')\n",
    "test_X = feature_to_dummy(test_X, 'Embarked')\n",
    "\n",
    "#Pclass\n",
    "train_X = feature_to_dummy(train_X, 'Pclass')\n",
    "test_X = feature_to_dummy(test_X, 'Pclass')\n",
    "\n",
    "train_Y = train['Survived']"
   ]
  },
  {
   "cell_type": "markdown",
   "metadata": {},
   "source": [
    "## Features selection"
   ]
  },
  {
   "cell_type": "code",
   "execution_count": 74,
   "metadata": {
    "collapsed": false
   },
   "outputs": [
    {
     "data": {
      "text/plain": [
       "array([[ 1.,  0.,  1.],\n",
       "       [ 0.,  1.,  0.],\n",
       "       [ 0.,  0.,  1.],\n",
       "       ..., \n",
       "       [ 0.,  0.,  1.],\n",
       "       [ 1.,  1.,  0.],\n",
       "       [ 1.,  0.,  1.]])"
      ]
     },
     "execution_count": 74,
     "metadata": {},
     "output_type": "execute_result"
    }
   ],
   "source": [
    "#with linear SVC **Gridsearched**\n",
    "lin_svc = LinearSVC(C=100)\n",
    "lin_svc.fit_transform(train_X, train_Y)\n",
    "\n",
    "#with rf **Gridsearched**\n",
    "rf = RandomForestClassifier(n_estimators=100, max_features=1, criterion='entropy') \n",
    "rf.fit_transform(train_X, train_Y)\n",
    "\n",
    "#with logitCV **NOT DONE YET!**\n",
    "logitcv = lm.LogisticRegressionCV()\n",
    "logitcv.fit_transform(train_X, train_Y)"
   ]
  },
  {
   "cell_type": "markdown",
   "metadata": {},
   "source": [
    "##Models"
   ]
  },
  {
   "cell_type": "markdown",
   "metadata": {},
   "source": [
    "###Random Forests"
   ]
  },
  {
   "cell_type": "code",
   "execution_count": 75,
   "metadata": {
    "collapsed": false
   },
   "outputs": [
    {
     "data": {
      "text/plain": [
       "<matplotlib.axes._subplots.AxesSubplot at 0xbc26940>"
      ]
     },
     "execution_count": 75,
     "metadata": {},
     "output_type": "execute_result"
    },
    {
     "data": {
      "image/png": "[encoded data removed]",
      "text/plain": [
       "<matplotlib.figure.Figure at 0xbc296d8>"
      ]
     },
     "metadata": {},
     "output_type": "display_data"
    }
   ],
   "source": [
    "model_rf = RandomForestClassifier(n_estimators = 10,\n",
    "                                  max_depth = None,\n",
    "                                  bootstrap = True,\n",
    "                                  criterion = \"entropy\")\n",
    "\n",
    "#features importance\n",
    "imp_list = list(zip(train_X.columns, np.transpose(forest.feature_importances_)))\n",
    "imp_list.sort(key=operator.itemgetter(1), reverse=True)\n",
    "imp_rf = pd.DataFrame(imp_list, columns=['features', 'imp'])\n",
    "imp_rf.plot(kind='bar', x='features')"
   ]
  },
  {
   "cell_type": "markdown",
   "metadata": {},
   "source": [
    "Let's keep the 3 first features.\n",
    "####The next line can be change if we decide to keep more variable :"
   ]
  },
  {
   "cell_type": "code",
   "execution_count": 76,
   "metadata": {
    "collapsed": true
   },
   "outputs": [],
   "source": [
    "train_X_imp = rf.fit_transform(train_X, train_Y)"
   ]
  },
  {
   "cell_type": "code",
   "execution_count": null,
   "metadata": {
    "collapsed": false
   },
   "outputs": [],
   "source": [
    "#combining the feature with pipeline.FeatureUnion => use it in the grid\n",
    "combined_features = FeatureUnion([(\"rf_select\", rf), (\"rf_est\", model_rf)])\n",
    "# Use combined features to transform dataset: \n",
    "X_features = combined_features.fit(train_X, train_Y).transform(train_X)\n",
    "#TODO : modifier la FeatureUnion qui ne sert à rien ici.\n"
   ]
  },
  {
   "cell_type": "markdown",
   "metadata": {},
   "source": [
    "###SVC"
   ]
  },
  {
   "cell_type": "code",
   "execution_count": 53,
   "metadata": {
    "collapsed": true
   },
   "outputs": [],
   "source": [
    "##SVC-lin\n",
    "model_svc = svm.SVC(kernel='linear')\n",
    "res_svc = model_svc.fit(train_X, train_Y) "
   ]
  },
  {
   "cell_type": "markdown",
   "metadata": {},
   "source": [
    "###Logistic"
   ]
  },
  {
   "cell_type": "code",
   "execution_count": null,
   "metadata": {
    "collapsed": true
   },
   "outputs": [],
   "source": [
    "## Logistic\n",
    "model_logit = lm.LogisticRegression()\n",
    "res_logit = model_logit.fit(train_X, train_Y)\n",
    "#coef\n",
    "pd.DataFrame(list(zip(train_X.columns, np.transpose(res_logit.coef_))))"
   ]
  },
  {
   "cell_type": "markdown",
   "metadata": {},
   "source": [
    "##Find the best parameters (Gridsearch)"
   ]
  },
  {
   "cell_type": "markdown",
   "metadata": {},
   "source": [
    "###parameters"
   ]
  },
  {
   "cell_type": "code",
   "execution_count": 24,
   "metadata": {
    "collapsed": true
   },
   "outputs": [],
   "source": [
    "param_grid_rf = {\"n_estimators\" : [10, 20, 30, 50, 100],\n",
    "              \"max_depth\": [3, None],\n",
    "              \"max_features\": [1, 3, 5],\n",
    "              \"min_samples_split\": [1, 3, 10],\n",
    "              \"min_samples_leaf\": [1, 3, 10],\n",
    "              \"bootstrap\": [True, False],\n",
    "              \"criterion\": [\"gini\", \"entropy\"]}\n",
    "              \n",
    "param_grid_svc = [\n",
    "  {'C': [1, 10, 100, 1000], 'kernel': ['linear']},\n",
    "  {'C': [1, 10, 100, 1000], 'gamma': [0.001, 0.0001], 'kernel': ['rbf']},\n",
    " ]\n",
    "\n",
    "param_grid_GBR = {\n",
    "              'learning_rate': [0.1, 0.05, 0.01],\n",
    "              'max_depth': [4, 6],\n",
    "              'min_samples_leaf': [3, 9, 15, 30, 50, 100],\n",
    "              'n_estimators': [1000, 2000, 3000],\n",
    "              }\n",
    "\n",
    "param_grid_ada = {\n",
    "            'n_estimators': [15,20,25,30,35,40,45],\n",
    "            'learning_rate': [0.3, 0.4, 0.5, 0.6, 0.7, 0.8, 0.9, 1.0],\n",
    "            'max_features': [1, 3, 5, 6]\n",
    "            'max_depth': [\n",
    "            }\n",
    "\n",
    "param_ExtraTrees = {\n",
    "            'n_estimators': [100,200,300,400,500,600,700,1000]\n",
    "            'max_depth': [1, 2, 5, 7, 10],\n",
    "            'min_samples_leaf': [1, 2 , 5, 7, 10],\n",
    "            'min_samples_split': [1, 2 , 5, 7, 10]\n",
    "            }"
   ]
  },
  {
   "cell_type": "markdown",
   "metadata": {},
   "source": [
    "###gridsearch"
   ]
  },
  {
   "cell_type": "code",
   "execution_count": 77,
   "metadata": {
    "collapsed": false
   },
   "outputs": [
    {
     "name": "stdout",
     "output_type": "stream",
     "text": [
      "GridSearchCV took 43.96 seconds for 1080 candidate parameter settings.\n",
      "Model with rank: 1\n",
      "Mean validation score: 0.835 (std: 0.023)\n",
      "Parameters: {'criterion': 'entropy', 'min_samples_leaf': 3, 'max_features': 3, 'bootstrap': True, 'n_estimators': 50, 'min_samples_split': 10, 'max_depth': None}\n",
      "\n",
      "Model with rank: 2\n",
      "Mean validation score: 0.833 (std: 0.017)\n",
      "Parameters: {'criterion': 'entropy', 'min_samples_leaf': 3, 'max_features': 5, 'bootstrap': True, 'max_depth': None, 'min_samples_split': 1, 'n_estimators': 20}\n",
      "\n",
      "Model with rank: 3\n",
      "Mean validation score: 0.832 (std: 0.022)\n",
      "Parameters: {'criterion': 'entropy', 'min_samples_leaf': 1, 'max_features': 3, 'bootstrap': True, 'max_depth': None, 'min_samples_split': 10, 'n_estimators': 50}\n",
      "\n"
     ]
    }
   ],
   "source": [
    "model_rf = RandomForestClassifier()\n",
    "grid_search = GridSearchCV(model_rf, param_grid=param_grid_rf, n_jobs=6)\n",
    "start = time()\n",
    "grid_search.fit(train_X, train_Y)\n",
    "\n",
    "print(\"GridSearchCV took %.2f seconds for %d candidate parameter settings.\"\n",
    "      % (time() - start, len(grid_search.grid_scores_)))\n",
    "report_grid(grid_search.grid_scores_)"
   ]
  },
  {
   "cell_type": "code",
   "execution_count": 80,
   "metadata": {
    "collapsed": false
   },
   "outputs": [
    {
     "name": "stdout",
     "output_type": "stream",
     "text": [
      "GridSearchCV took 270.82 seconds for 12 candidate parameter settings.\n",
      "Model with rank: 1\n",
      "Mean validation score: 0.789 (std: 0.020)\n",
      "Parameters: {'C': 100, 'gamma': 0.001, 'kernel': 'rbf'}\n",
      "\n",
      "Model with rank: 2\n",
      "Mean validation score: 0.788 (std: 0.010)\n",
      "Parameters: {'C': 1000, 'gamma': 0.001, 'kernel': 'rbf'}\n",
      "\n",
      "Model with rank: 3\n",
      "Mean validation score: 0.787 (std: 0.011)\n",
      "Parameters: {'C': 1, 'kernel': 'linear'}\n",
      "\n"
     ]
    }
   ],
   "source": [
    "grid_search = GridSearchCV(model_svc, param_grid=param_grid_svc, n_jobs=12)\n",
    "start = time()\n",
    "grid_search.fit(train_X, train_Y)\n",
    "\n",
    "print(\"GridSearchCV took %.2f seconds for %d candidate parameter settings.\"\n",
    "      % (time() - start, len(grid_search.grid_scores_)))\n",
    "report_grid(grid_search.grid_scores_)"
   ]
  },
  {
   "cell_type": "code",
   "execution_count": 81,
   "metadata": {
    "collapsed": false
   },
   "outputs": [
    {
     "name": "stdout",
     "output_type": "stream",
     "text": [
      "It took 55.31416392326355 seconds\n",
      "Model with rank: 1\n",
      "Mean validation score: 0.825 (std: 0.027)\n",
      "Parameters: {'min_samples_leaf': 15, 'learning_rate': 0.01, 'max_depth': 4, 'n_estimators': 1000}\n",
      "\n",
      "Model with rank: 2\n",
      "Mean validation score: 0.825 (std: 0.019)\n",
      "Parameters: {'min_samples_leaf': 15, 'learning_rate': 0.01, 'max_depth': 6, 'n_estimators': 1000}\n",
      "\n",
      "Model with rank: 3\n",
      "Mean validation score: 0.823 (std: 0.019)\n",
      "Parameters: {'min_samples_leaf': 9, 'learning_rate': 0.01, 'n_estimators': 1000, 'max_depth': 4}\n",
      "\n"
     ]
    }
   ],
   "source": [
    "GBR = GradientBoostingClassifier()\n",
    "start_time = time()\n",
    "grid_search = GridSearchCV(GBR, param_grid_GBR, n_jobs=12).fit(train_X, train_Y)\n",
    "end_time = time()\n",
    "print('It took {} seconds'.format(end_time - start_time))\n",
    "report_grid(grid_search.grid_scores_)"
   ]
  },
  {
   "cell_type": "code",
   "execution_count": null,
   "metadata": {
    "collapsed": true
   },
   "outputs": [],
   "source": [
    "adaboost = AdaBoostClassifier(\n",
    "        n_estimators = 20,\n",
    "        learning_rate = 0.75,\n",
    "        base_estimator = ExtraTreesClassifier(\n",
    "            n_estimators = 400,\n",
    "            max_features = 30,\n",
    "            max_depth = 12,\n",
    "            min_samples_leaf = 100,\n",
    "            min_samples_split = 100,\n",
    "            verbose = 1,\n",
    "            n_jobs = -1))"
   ]
  },
  {
   "cell_type": "markdown",
   "metadata": {},
   "source": [
    "##Best models"
   ]
  },
  {
   "cell_type": "code",
   "execution_count": 82,
   "metadata": {
    "collapsed": false
   },
   "outputs": [],
   "source": [
    "best_GBR = GradientBoostingClassifier(min_samples_leaf = 15,\n",
    "                                  learning_rate = 0.01,\n",
    "                                  max_depth = 4,\n",
    "                                  n_estimators = 1000)\n",
    "model_gbr = best_GBR.fit(train_X, train_Y)\n",
    "output = model_gbr.predict(test_X).astype(int)\n",
    "\n",
    "best_rf = RandomForestClassifier(n_estimators = 50,\n",
    "                                  max_depth = None,\n",
    "                                  min_sample_leaf = 3,\n",
    "                                  max_features = 3,\n",
    "                                  min_samples_split = 10,\n",
    "                                  bootstrap = True,\n",
    "                                  criterion = \"entropy\")\n",
    "\n",
    "model_rf = best_rf.fit(train_X, train_Y)\n",
    "output = model_rf.predict(test_X).astype(int)\n",
    "\n",
    "best_svc = svm.SVC(kernel = 'rbf',\n",
    "                  C = 100,\n",
    "                  gamme = 0.001)\n",
    "model_rf = best_svc.fit(train_X, train_Y)\n",
    "\n",
    "best_adaboost = AdaBoostClassifier(\n",
    "        n_estimators = 20,\n",
    "        learning_rate = 0.75,\n",
    "        base_estimator = ExtraTreesClassifier(\n",
    "            n_estimators = 400,\n",
    "            max_features = 30,\n",
    "            max_depth = 12,\n",
    "            min_samples_leaf = 100,\n",
    "            min_samples_split = 100,\n",
    "            verbose = 1,\n",
    "            n_jobs = -1))"
   ]
  },
  {
   "cell_type": "markdown",
   "metadata": {},
   "source": [
    "## Output"
   ]
  },
  {
   "cell_type": "code",
   "execution_count": 83,
   "metadata": {
    "collapsed": false
   },
   "outputs": [
    {
     "name": "stdout",
     "output_type": "stream",
     "text": [
      "Done.\n"
     ]
    }
   ],
   "source": [
    "ids = test['PassengerId'].values\n",
    "\n",
    "predictions_file = open('M:/datasciences/Projets/Kaggle/Titanic/gbr_grid_2.csv', 'w', newline='')\n",
    "open_file_object = csv.writer(predictions_file)\n",
    "open_file_object.writerow([\"PassengerId\",\"Survived\"])\n",
    "open_file_object.writerows(zip(ids, output))\n",
    "predictions_file.close()\n",
    "print('Done.')"
   ]
  },
  {
   "cell_type": "code",
   "execution_count": null,
   "metadata": {
    "collapsed": true
   },
   "outputs": [],
   "source": []
  }
 ],
 "metadata": {
  "kernelspec": {
   "display_name": "Python 3",
   "language": "python",
   "name": "python3"
  },
  "language_info": {
   "codemirror_mode": {
    "name": "ipython",
    "version": 3
   },
   "file_extension": ".py",
   "mimetype": "text/x-python",
   "name": "python",
   "nbconvert_exporter": "python",
   "pygments_lexer": "ipython3",
   "version": "3.4.3"
  }
 },
 "nbformat": 4,
 "nbformat_minor": 0
}
